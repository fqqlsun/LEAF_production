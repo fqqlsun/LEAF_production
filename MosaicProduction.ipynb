{
 "cells": [
  {
   "cell_type": "markdown",
   "metadata": {},
   "source": [
    "# Mosaic Image Creation with Google Earth Engine\n",
    "\n",
    "   This notebook file is dedicated to create and export a mosaic data set (multiple band images) based on the following five groups of variables:\n",
    "   \n",
    "   (1) Sensor type (a string) and data unit (an integer). The sensor type string can be one are 5, 7, 8, 9 or 101, which stand for Landsat 5,7,8,9 and Sentinel 2, respectively. The two data unit integers, 1 and 2, represent TOA and surface reflectance, respectively. A mosaic task can be completed with one of the combinations between the sensor codes and data units.\n",
    "   \n",
    "   (2) Spatial region. There are two ways to specify a spatial region for a mosaic task. The first way is through a tile name, which is defined by following the naming convention of CCRS' tile griding system. The second way is by means of the ee.Geometry.Polygon object of GEE.\n",
    "   \n",
    "   (3) Time period. There are also two ways to define an acquisition time period for the images to be used in a mosaic task. The first way is through specifying a targeted year (a string) and the number of years (an integer). In this way, only the images acquired during growing peak seasons (June 15 to September 15) are used in the process of generating a mosaic image. The second way is to directly specify the start and end dates of the image acquisition. Note that this notebook defines the two types of time periods in section 1.2.1 and 1.2.2, respectively, instead of as other variables in section 1.1 .   \n",
    "   \n",
    "   (4) Output resolution. For the mosaic images generated with Landsat or Sentinel-2 data, the most common spatial resolution for exporting is 30 meter, even though it is also reasonable to export Sentinel-2 mosaic images at 10 or 20 meter. Note that 10 meter spatial resolution is too high for GEE to export a band image with a single TIFF file (GEE will automatically divide one band image into multiple TIFF files and export them separately).\n",
    "   \n",
    "   (5) Output folder and file names (two strings). A mosaic data set includes multiple band images. Normally, these images are exported as separate files. To export the band images associated with a mosaic into a specified folder on Google Drive, different filenames must be applied. The given file name only defines the base part of the filenames. Specifically, the filenames of different bands are consisted of the given file name (base name), band number and spatial resolution. The latter two parts are attached to the filenames automatically by the program.  "
   ]
  },
  {
   "cell_type": "markdown",
   "metadata": {},
   "source": [
    "## Import Python Modules and Define A Parameter Dictionary"
   ]
  },
  {
   "cell_type": "code",
   "execution_count": 1,
   "metadata": {
    "ExecuteTime": {
     "end_time": "2022-04-02T21:09:58.879095Z",
     "start_time": "2022-04-02T21:09:56.754516Z"
    }
   },
   "outputs": [],
   "source": [
    "import ee\n",
    "\n",
    "#ee.Authenticate()\n",
    "ee.Initialize()\n",
    "\n",
    "import os\n",
    "import sys\n",
    "\n",
    "#Get the absolute path to the parent of current working directory \n",
    "#cwd    = os.getcwd()\n",
    "#source_path = os.path.join(cwd, 'sources')\n",
    "#sys.path.append(source_path)\n",
    "#sys.path\n",
    "\n",
    "import geemap\n",
    "import Image\n",
    "import eoParams\n",
    "import Mosaic\n",
    "import eoVisual\n",
    "import eoTileGrids as eoTG\n",
    "import eoClassfyUtils as eoCU\n",
    "import eoAuxData as eoAD\n",
    "\n",
    "#============================================================================================\n",
    "# Define a parameter dictionary\n",
    "#============================================================================================\n",
    "params =  {\n",
    "    'sensor':'S2_SR',         # A sensor type string (one of 'S2_SR', 'S2_TOA', 'L8_SR' and 'L8_TOA')    \n",
    "    'year': 2022,             # An integer representing image acquisition year\n",
    "    'nbYears': 1,             # A positive int for annual product, or negative int for monthly product\n",
    "    'month': 8,               # A list of integers represening one or multiple monthes     \n",
    "    'tile_name': 'tile44',    # A list of (sub-)tile names (defined using CCRS' tile griding system) \n",
    "    'location': 'drive',         # Exporting location ('drive', 'storage' or 'asset') \n",
    "    'resolution': 20,            # Exporting spatial resolution\n",
    "    'bucket': 's2_mosaic_2020',  # An unique bucket name on Google Cloud Storage\n",
    "    'folder': 'tile55_2020_l8_200m_leaf'                 # the folder name for exporting\n",
    "}\n"
   ]
  },
  {
   "cell_type": "markdown",
   "metadata": {},
   "source": [
    "## Create Mosaic"
   ]
  },
  {
   "cell_type": "code",
   "execution_count": 2,
   "metadata": {
    "ExecuteTime": {
     "end_time": "2022-03-25T18:33:42.620173Z",
     "start_time": "2022-03-25T18:33:42.615177Z"
    }
   },
   "outputs": [
    {
     "name": "stdout",
     "output_type": "stream",
     "text": [
      "ssr dictionary =  {'NAME': 'S2_SR', 'SSR_CODE': 21, 'DATA_UNIT': 2, 'GAIN': <ee.ee_number.Number object at 0x00000171B1EE7CB0>, 'OFFSET': <ee.ee_number.Number object at 0x00000171B1EE7CE0>, 'ALL_BANDS': ['B1', 'B2', 'B3', 'B4', 'B5', 'B6', 'B7', 'B8', 'B8A', 'B9', 'B11', 'B12'], 'OUT_BANDS': ['B2', 'B3', 'B4', 'B5', 'B6', 'B7', 'B8', 'B8A', 'B11', 'B12'], '10M_BANDS': ['B2', 'B3', 'B4', 'B8'], 'SIX_BANDS': ['B2', 'B3', 'B4', 'B8A', 'B11', 'B12'], 'NoA_BANDS': ['B4', 'B5', 'B6', 'B7', 'B8', 'B8A', 'B11', 'B12'], 'GEE_NAME': 'COPERNICUS/S2_SR_HARMONIZED', 'CLOUD': 'CLOUDY_PIXEL_PERCENTAGE', 'SZA': 'MEAN_SOLAR_ZENITH_ANGLE', 'VZA': 'MEAN_INCIDENCE_ZENITH_ANGLE_B8A', 'SAA': 'MEAN_SOLAR_AZIMUTH_ANGLE', 'VAA': 'MEAN_INCIDENCE_AZIMUTH_ANGLE_B8A', 'BLU': 'B2', 'GRN': 'B3', 'RED': 'B4', 'NIR': 'B8A', 'SW1': 'B11', 'SW2': 'B12'}\n"
     ]
    }
   ],
   "source": [
    "sensor = params['sensor']\n",
    "year   = params['year']        # A string to define a targeted year\n",
    "nYears = params['nbYears']     # An integer to define the number of years\n",
    "\n",
    "region = eoTG.PolygonDict.get(params['tile_names'][0])\n",
    "#region = eoTG.custom_RegionDict.get('StasCan')\n",
    "\n",
    "ssr_dict = Image.SSR_META_DICT[sensor]\n",
    "\n",
    "print('ssr dictionary = ', ssr_dict)\n",
    "\n",
    "#region = eoTileGD.FullTileDict.get('tile55')\n",
    "#region = eoTileGD.RingOfFire"
   ]
  },
  {
   "cell_type": "markdown",
   "metadata": {},
   "source": [
    "### Create Mosaic According to a Parameter Dictionary "
   ]
  },
  {
   "cell_type": "code",
   "execution_count": 2,
   "metadata": {
    "ExecuteTime": {
     "end_time": "2022-03-31T01:08:13.792093Z",
     "start_time": "2022-03-31T01:07:56.283891Z"
    }
   },
   "outputs": [
    {
     "name": "stdout",
     "output_type": "stream",
     "text": [
      "<getCollection> SsrData info: {'NAME': 'S2_SR', 'SSR_CODE': 21, 'DATA_UNIT': 2, 'GAIN': <ee.ee_number.Number object at 0x0000021DCE877EC0>, 'OFFSET': <ee.ee_number.Number object at 0x0000021DCE877EF0>, 'ALL_BANDS': ['B1', 'B2', 'B3', 'B4', 'B5', 'B6', 'B7', 'B8', 'B8A', 'B9', 'B11', 'B12'], 'OUT_BANDS': ['B2', 'B3', 'B4', 'B5', 'B6', 'B7', 'B8', 'B8A', 'B11', 'B12'], '10M_BANDS': ['B2', 'B3', 'B4', 'B8'], 'SIX_BANDS': ['B2', 'B3', 'B4', 'B8A', 'B11', 'B12'], 'NoA_BANDS': ['B4', 'B5', 'B6', 'B7', 'B8', 'B8A', 'B11', 'B12'], 'GEE_NAME': 'COPERNICUS/S2_SR_HARMONIZED', 'CLOUD': 'CLOUDY_PIXEL_PERCENTAGE', 'SZA': 'MEAN_SOLAR_ZENITH_ANGLE', 'VZA': 'MEAN_INCIDENCE_ZENITH_ANGLE_B8A', 'SAA': 'MEAN_SOLAR_AZIMUTH_ANGLE', 'VAA': 'MEAN_INCIDENCE_AZIMUTH_ANGLE_B8A', 'BLU': 'B2', 'GRN': 'B3', 'RED': 'B4', 'NIR': 'B8A', 'SW1': 'B11', 'SW2': 'B12'}\n",
      "\n",
      "<getCollection> The year of time window =  2023\n",
      "<getCollection> Used cloud rate =  85\n",
      "\n",
      "<getCollection> The name of data catalog =  COPERNICUS/S2_SR_HARMONIZED\n",
      "<getCollection> The number of images in selected image collection =  2905\n",
      "\n",
      "\n",
      "<export_mosaic> fun_Param_dict =  {'sensor': 'S2_SR', 'year': 2023, 'nbYears': 1, 'resolution': 20, 'location': 'drive', 'bucket': 'LS_mosaic_2022', 'folder': 'S2_2023_mosaic_20m', 'tile_name': 'tile55'}\n",
      "<export_mosaic> Exporting to Google Drive......\n"
     ]
    }
   ],
   "source": [
    "#mosaic = Mosaic.HomoPeakMosaic(ssr_dict, region, year, nYears, Mosaic.EXTRA_NONE, False)\n",
    "#mosaic = Image.apply_gain_offset(mosaic, ssr_dict, 100, False)\n",
    "\n",
    "mosaic = Mosaic.Mosaic_production(params, 0)"
   ]
  },
  {
   "cell_type": "code",
   "execution_count": null,
   "metadata": {},
   "outputs": [],
   "source": [
    "Image.manage_tasks('status', 'tile55_2020')"
   ]
  },
  {
   "cell_type": "markdown",
   "metadata": {},
   "source": [
    "### Creat a Mosaic for (1 to 3) Peak Seasons\n",
    "\n",
    "Define 1, 2 or 3 peak seasons with a targeted year (a string variable) and the number of years (an integer). The targeted year is the year a majority of the clear-sky pixels are taken from for a mosaic task. In the case of more than one peak seasons are involved, the clear-sky pixels from untargeted years will be used to substitute the best but still contaminated (cloudy or shadow) pixels of the targeted year.      "
   ]
  },
  {
   "cell_type": "code",
   "execution_count": 3,
   "metadata": {
    "ExecuteTime": {
     "end_time": "2022-03-25T17:08:01.569063Z",
     "start_time": "2022-03-25T17:08:00.903047Z"
    }
   },
   "outputs": [
    {
     "name": "stdout",
     "output_type": "stream",
     "text": [
      "\n",
      "<getCollection> The name of data catalog =  COPERNICUS/S2_SR_HARMONIZED\n",
      "<getCollection> The number of images in selected image collection =  1943\n"
     ]
    }
   ],
   "source": [
    "sensor = params['sensor']  # one of 5, 7, 8, 9 or 101\n",
    "year   = params['year']    # A string to define a targeted year\n",
    "nYears = params['nbYears'] # An integer to define the number of years\n",
    "\n",
    "region = eoTG.PolygonDict.get(params['tile_names'][0])  #includes bigger full tiles\n",
    "ssr_dict = Image.SSR_META_DICT[sensor]\n",
    "#region = eoTileGD.RingOfFire\n",
    "\n",
    "#mosaic = Mosaic.AnnualMosaic(sensor, unit, region, year, nYears, False)\n",
    "mosaic = Mosaic.HomoPeakMosaic(ssr_dict, region, year, nYears, Mosaic.EXTRA_NONE)"
   ]
  },
  {
   "cell_type": "markdown",
   "metadata": {},
   "source": [
    "### Creat a Mosaic for A Period of Time\n",
    "\n",
    "Define a period of time with two time strings (start and end dates). Normally, only a period of time within one calender year is defined. "
   ]
  },
  {
   "cell_type": "code",
   "execution_count": 8,
   "metadata": {
    "ExecuteTime": {
     "end_time": "2022-04-02T16:00:08.300770Z",
     "start_time": "2022-04-02T16:00:07.739104Z"
    }
   },
   "outputs": [
    {
     "name": "stdout",
     "output_type": "stream",
     "text": [
      "<getCollection> SsrData info: {'NAME': 'S2_SR', 'SSR_CODE': 21, 'DATA_UNIT': 2, 'GAIN': <ee.ee_number.Number object at 0x000002169C86AB10>, 'OFFSET': <ee.ee_number.Number object at 0x000002169C86AB40>, 'ALL_BANDS': ['B1', 'B2', 'B3', 'B4', 'B5', 'B6', 'B7', 'B8', 'B8A', 'B9', 'B11', 'B12'], 'OUT_BANDS': ['B2', 'B3', 'B4', 'B5', 'B6', 'B7', 'B8', 'B8A', 'B11', 'B12'], '10M_BANDS': ['B2', 'B3', 'B4', 'B8'], 'SIX_BANDS': ['B2', 'B3', 'B4', 'B8A', 'B11', 'B12'], 'NoA_BANDS': ['B4', 'B5', 'B6', 'B7', 'B8', 'B8A', 'B11', 'B12'], 'GEE_NAME': 'COPERNICUS/S2_SR_HARMONIZED', 'CLOUD': 'CLOUDY_PIXEL_PERCENTAGE', 'SZA': 'MEAN_SOLAR_ZENITH_ANGLE', 'VZA': 'MEAN_INCIDENCE_ZENITH_ANGLE_B8A', 'SAA': 'MEAN_SOLAR_AZIMUTH_ANGLE', 'VAA': 'MEAN_INCIDENCE_AZIMUTH_ANGLE_B8A', 'BLU': 'B2', 'GRN': 'B3', 'RED': 'B4', 'NIR': 'B8A', 'SW1': 'B11', 'SW2': 'B12'}\n",
      "\n",
      "<getCollection> The year of time window =  2023\n",
      "<getCollection> Used cloud rate =  70\n",
      "\n",
      "<getCollection> The name of data catalog =  COPERNICUS/S2_SR_HARMONIZED\n",
      "<getCollection> The number of images in selected image collection =  9986\n"
     ]
    }
   ],
   "source": [
    "start0 = '2023-07-01'  # A string to define a start date\n",
    "end0   = '2023-07-15'  # A string to define a end date\n",
    "\n",
    "start1 = '2023-06-16'  # A string to define a start date\n",
    "end1   = '2023-09-15'  # A string to define a end date\n",
    "\n",
    "start2 = '2023-08-01'  # A string to define a start date\n",
    "end2   = '2023-08-15'  # A string to define a end date\n",
    "\n",
    "mosaic = Mosaic.HomoPeriodMosaic(ssr_dict, region, year, nYears, start1, end1, False, True)"
   ]
  },
  {
   "cell_type": "markdown",
   "metadata": {},
   "source": [
    "## Export the Mosaic Images to Google Drive"
   ]
  },
  {
   "cell_type": "code",
   "execution_count": 2,
   "metadata": {
    "ExecuteTime": {
     "end_time": "2022-03-25T18:35:35.055013Z",
     "start_time": "2022-03-25T18:35:34.681275Z"
    }
   },
   "outputs": [
    {
     "ename": "NameError",
     "evalue": "name 'sensor' is not defined",
     "output_type": "error",
     "traceback": [
      "\u001b[1;31m---------------------------------------------------------------------------\u001b[0m",
      "\u001b[1;31mNameError\u001b[0m                                 Traceback (most recent call last)",
      "\u001b[1;32m~\\AppData\\Local\\Temp/ipykernel_6780/3122088493.py\u001b[0m in \u001b[0;36m<module>\u001b[1;34m\u001b[0m\n\u001b[0;32m      5\u001b[0m \u001b[0mfolder\u001b[0m    \u001b[1;33m=\u001b[0m \u001b[1;34m'S2_2020_mosaic_100m'\u001b[0m\u001b[1;33m\u001b[0m\u001b[1;33m\u001b[0m\u001b[0m\n\u001b[0;32m      6\u001b[0m \u001b[0mfilename\u001b[0m  \u001b[1;33m=\u001b[0m \u001b[1;34m'S2_2020_100m'\u001b[0m\u001b[1;33m\u001b[0m\u001b[1;33m\u001b[0m\u001b[0m\n\u001b[1;32m----> 7\u001b[1;33m \u001b[0mout_bands\u001b[0m \u001b[1;33m=\u001b[0m \u001b[0meoImage\u001b[0m\u001b[1;33m.\u001b[0m\u001b[0mget_out_BandNames\u001b[0m\u001b[1;33m(\u001b[0m\u001b[0msensor\u001b[0m\u001b[1;33m,\u001b[0m \u001b[1;36m1\u001b[0m\u001b[1;33m)\u001b[0m\u001b[1;33m\u001b[0m\u001b[1;33m\u001b[0m\u001b[0m\n\u001b[0m\u001b[0;32m      8\u001b[0m \u001b[1;33m\u001b[0m\u001b[0m\n\u001b[0;32m      9\u001b[0m \u001b[0mtask_list\u001b[0m \u001b[1;33m=\u001b[0m \u001b[0meoMosaic\u001b[0m\u001b[1;33m.\u001b[0m\u001b[0mMosaic2Drive\u001b[0m\u001b[1;33m(\u001b[0m\u001b[0mmosaic\u001b[0m\u001b[1;33m,\u001b[0m \u001b[0mfolder\u001b[0m\u001b[1;33m,\u001b[0m \u001b[0mfilename\u001b[0m\u001b[1;33m,\u001b[0m \u001b[0mout_bands\u001b[0m\u001b[1;33m,\u001b[0m \u001b[0mregion\u001b[0m\u001b[1;33m,\u001b[0m \u001b[0mresol\u001b[0m\u001b[1;33m)\u001b[0m\u001b[1;33m\u001b[0m\u001b[1;33m\u001b[0m\u001b[0m\n",
      "\u001b[1;31mNameError\u001b[0m: name 'sensor' is not defined"
     ]
    }
   ],
   "source": [
    "#========================================================================================\n",
    "#Define the names of output folder and base filename \n",
    "#========================================================================================\n",
    "resol     = params['spatial_scale']   #spatial resolution in meter unit \n",
    "folder    = 'S2_2020_mosaic_100m'\n",
    "filename  = 'S2_2020_100m' \n",
    "out_bands = eoImage.get_out_BandNames(sensor, 1)\n",
    "\n",
    "task_list = eoMosaic.Mosaic2Drive(mosaic, folder, filename, out_bands, region, resol)"
   ]
  },
  {
   "cell_type": "markdown",
   "metadata": {},
   "source": [
    "## Check the Status of the Exportings"
   ]
  },
  {
   "cell_type": "code",
   "execution_count": 13,
   "metadata": {
    "ExecuteTime": {
     "end_time": "2021-10-12T14:53:13.355421Z",
     "start_time": "2021-10-12T14:53:11.394055Z"
    }
   },
   "outputs": [
    {
     "name": "stdout",
     "output_type": "stream",
     "text": [
      "S2_ROF_2021_Oct_B1_20m: READY\n",
      "S2_ROF_2021_Oct_B2_20m: READY\n",
      "S2_ROF_2021_Oct_B3_20m: READY\n",
      "S2_ROF_2021_Oct_B4_20m: READY\n",
      "S2_ROF_2021_Oct_B5_20m: READY\n",
      "S2_ROF_2021_Oct_B6_20m: READY\n",
      "S2_ROF_2021_Oct_B7_20m: READY\n",
      "S2_ROF_2021_Oct_B8_20m: READY\n",
      "S2_ROF_2021_Oct_B11_20m: READY\n",
      "S2_ROF_2021_Oct_B12_20m: READY\n"
     ]
    }
   ],
   "source": [
    "#========================================================================================\n",
    "# Define a function for display the status of each outputing process\n",
    "#========================================================================================\n",
    "def check_ee_tasks(ee_tasks: list = []):\n",
    "    for task in ee_tasks:\n",
    "        taskStatus = ee.data.getTaskStatus(task.id)[0]\n",
    "        print(taskStatus[\"description\"] + \": \" + taskStatus[\"state\"])\n",
    "\n",
    "#========================================================================================\n",
    "# Call \"check_ee_tasks\" function with \"task_list\" as input\n",
    "#========================================================================================\n",
    "check_ee_tasks(task_list)"
   ]
  },
  {
   "cell_type": "code",
   "execution_count": 11,
   "metadata": {
    "ExecuteTime": {
     "end_time": "2022-04-02T16:00:17.321723Z",
     "start_time": "2022-04-02T16:00:17.314728Z"
    }
   },
   "outputs": [
    {
     "data": {
      "application/vnd.jupyter.widget-view+json": {
       "model_id": "dca7ca156842490aaf690229cc4da64c",
       "version_major": 2,
       "version_minor": 0
      },
      "text/plain": [
       "Map(center=[45.41, -75.72], controls=(WidgetControl(options=['position', 'transparent_bg'], widget=HBox(childr…"
      ]
     },
     "execution_count": 11,
     "metadata": {},
     "output_type": "execute_result"
    }
   ],
   "source": [
    "#Define Visualization \n",
    "s2_vis = {\n",
    "    'min': 0,\n",
    "    'max': 50,\n",
    "    'gamma': 1.0,\n",
    "    'dimensions': 10,\n",
    "    'bands': ['B11', 'B8', 'B4']}\n",
    "\n",
    "ls_vis = {\n",
    "    'min': 0,\n",
    "    'max': 50,\n",
    "    'gamma': 1.0,\n",
    "    'dimensions': 10,\n",
    "    'bands': ['SR_B4', 'SR_B3', 'SR_B2']}\n",
    "\n",
    "Map = geemap.Map(center=[45.41, -75.72], zoom=4)\n",
    "Map"
   ]
  },
  {
   "cell_type": "markdown",
   "metadata": {},
   "source": [
    "## Display the Created Mosaic Images\n",
    "\n",
    "Note that the image display functionality is based on 'geemap' library, which may not work with Microsoft Internet Explore. "
   ]
  },
  {
   "cell_type": "code",
   "execution_count": 12,
   "metadata": {
    "ExecuteTime": {
     "end_time": "2022-04-02T16:00:26.531144Z",
     "start_time": "2022-04-02T16:00:25.586722Z"
    }
   },
   "outputs": [],
   "source": [
    "#Map.addLayer(ls_mosaic1, ls_vis, 'L8 mosaic')\n",
    "#Map.addLayer(s2_mosaic1, s2_vis, 'S2 mosaic')\n",
    "\n",
    "#Map.addLayer(mosaic0.clip(region), STD_vis, 'mosaic0')\n",
    "Map.addLayer(mosaic.clip(region), s2_vis, 'S2 mosaic')\n",
    "#Map.addLayer(mosaic2.clip(region), STD_vis, 'mosaic2')"
   ]
  },
  {
   "cell_type": "code",
   "execution_count": null,
   "metadata": {},
   "outputs": [],
   "source": []
  }
 ],
 "metadata": {
  "kernelspec": {
   "display_name": "Python 3 (ipykernel)",
   "language": "python",
   "name": "python3"
  },
  "language_info": {
   "codemirror_mode": {
    "name": "ipython",
    "version": 3
   },
   "file_extension": ".py",
   "mimetype": "text/x-python",
   "name": "python",
   "nbconvert_exporter": "python",
   "pygments_lexer": "ipython3",
   "version": "3.12.0"
  },
  "toc": {
   "base_numbering": 1,
   "nav_menu": {},
   "number_sections": true,
   "sideBar": true,
   "skip_h1_title": false,
   "title_cell": "Table of Contents",
   "title_sidebar": "Contents",
   "toc_cell": false,
   "toc_position": {
    "height": "calc(100% - 180px)",
    "left": "10px",
    "top": "150px",
    "width": "186px"
   },
   "toc_section_display": true,
   "toc_window_display": true
  },
  "varInspector": {
   "cols": {
    "lenName": 16,
    "lenType": 16,
    "lenVar": 40
   },
   "kernels_config": {
    "python": {
     "delete_cmd_postfix": "",
     "delete_cmd_prefix": "del ",
     "library": "var_list.py",
     "varRefreshCmd": "print(var_dic_list())"
    },
    "r": {
     "delete_cmd_postfix": ") ",
     "delete_cmd_prefix": "rm(",
     "library": "var_list.r",
     "varRefreshCmd": "cat(var_dic_list()) "
    }
   },
   "types_to_exclude": [
    "module",
    "function",
    "builtin_function_or_method",
    "instance",
    "_Feature"
   ],
   "window_display": false
  }
 },
 "nbformat": 4,
 "nbformat_minor": 4
}
