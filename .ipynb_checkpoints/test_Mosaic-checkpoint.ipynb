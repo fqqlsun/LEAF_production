{
 "cells": [
  {
   "cell_type": "code",
   "execution_count": 1,
   "metadata": {
    "ExecuteTime": {
     "end_time": "2022-05-03T15:27:53.434306Z",
     "start_time": "2022-05-03T15:27:50.911259Z"
    }
   },
   "outputs": [],
   "source": [
    "#from google.auth import compute_engine\n",
    "#credentials = compute_engine.Credentials(service_account_email = '751427818963-compute@developer.gserviceaccount.com', \n",
    "#                                         scopes = ['https://www.googleapis.com/auth/earthengine'])\n",
    "\n",
    "import ee\n",
    "#ee.Initialize(credentials, project='ccmeo-ag-000007')\n",
    "#ee.Authenticate()\n",
    "ee.Initialize()\n",
    "\n",
    "import os\n",
    "import sys\n",
    "\n",
    "#Get the absolute path to the parent of current working directory \n",
    "cwd    = os.getcwd()\n",
    "parent = os.path.abspath(os.path.join(cwd, os.pardir))\n",
    "source_path = os.path.join(parent, 'sources')\n",
    "sys.path.append(source_path)\n",
    "sys.path\n",
    "\n",
    "import geemap\n",
    "import Image\n",
    "import ImgSet as IS\n",
    "import ImgMask as IM\n",
    "import eoTileGrids as eoTG\n",
    "import Mosaic\n",
    "import eoParams\n",
    "import LEAFNets as LN\n",
    "\n",
    "\n",
    "params = {\n",
    "    'sensor': 'S2_SR',           # A sensor type string (e.g., 'S2_SR' or 'L8_SR')\n",
    "    'unit': 2,                   # A data unit code (1 or 2 for TOA or surface reflectance)    \n",
    "    'year': 2024,                # An integer representing image acquisition year\n",
    "    'nbYears': 1,               # positive int for annual product, or negative int for monthly product\n",
    "    'months': [8],              # A list of integers represening one or multiple monthes     \n",
    "    'tile_names': ['tile55'],    # A list of (sub-)tile names (defined using CCRS' tile griding system) \n",
    "    'prod_names': ['mosaic'],    #['mosaic', 'LAI', 'fCOVER', ]\n",
    "    'location': 'drive',       # Exporting location ('drive', 'storage' or 'asset') \n",
    "    'resolution': 20,            # Exporting spatial resolution\n",
    "    'bucket': 'urban_maps_2020',  # An unique bucket name on Google Cloud Storage\n",
    "    'folder': '', # the folder name for exporting\n",
    "    'buff_radius': 10, \n",
    "    'tile_scale': 4\n",
    "}"
   ]
  },
  {
   "cell_type": "code",
   "execution_count": 2,
   "metadata": {
    "ExecuteTime": {
     "end_time": "2022-05-03T15:32:37.505663Z",
     "start_time": "2022-05-03T15:32:37.500667Z"
    }
   },
   "outputs": [
    {
     "data": {
      "text/html": [
       "\n",
       "            <style>\n",
       "                .geemap-dark {\n",
       "                    --jp-widgets-color: white;\n",
       "                    --jp-widgets-label-color: white;\n",
       "                    --jp-ui-font-color1: white;\n",
       "                    --jp-layout-color2: #454545;\n",
       "                    background-color: #383838;\n",
       "                }\n",
       "\n",
       "                .geemap-dark .jupyter-button {\n",
       "                    --jp-layout-color3: #383838;\n",
       "                }\n",
       "\n",
       "                .geemap-colab {\n",
       "                    background-color: var(--colab-primary-surface-color, white);\n",
       "                }\n",
       "\n",
       "                .geemap-colab .jupyter-button {\n",
       "                    --jp-layout-color3: var(--colab-primary-surface-color, white);\n",
       "                }\n",
       "            </style>\n",
       "            "
      ],
      "text/plain": [
       "<IPython.core.display.HTML object>"
      ]
     },
     "metadata": {},
     "output_type": "display_data"
    },
    {
     "name": "stdout",
     "output_type": "stream",
     "text": [
      "ssr dictionary =  {'NAME': 'S2_SR', 'SSR_CODE': 21, 'DATA_UNIT': 2, 'GAIN': <ee.ee_number.Number object at 0x0000025B2BE6C8C0>, 'OFFSET': <ee.ee_number.Number object at 0x0000025B2BE6C8F0>, 'ALL_BANDS': ['B1', 'B2', 'B3', 'B4', 'B5', 'B6', 'B7', 'B8', 'B8A', 'B9', 'B11', 'B12'], 'OUT_BANDS': ['B2', 'B3', 'B4', 'B5', 'B6', 'B7', 'B8', 'B8A', 'B11', 'B12'], '10M_BANDS': ['B2', 'B3', 'B4', 'B8'], 'SIX_BANDS': ['B2', 'B3', 'B4', 'B8A', 'B11', 'B12'], 'NoA_BANDS': ['B4', 'B5', 'B6', 'B7', 'B8', 'B8A', 'B11', 'B12'], 'GEE_NAME': 'COPERNICUS/S2_SR_HARMONIZED', 'CLOUD': 'CLOUDY_PIXEL_PERCENTAGE', 'SZA': 'MEAN_SOLAR_ZENITH_ANGLE', 'VZA': 'MEAN_INCIDENCE_ZENITH_ANGLE_B8A', 'SAA': 'MEAN_SOLAR_AZIMUTH_ANGLE', 'VAA': 'MEAN_INCIDENCE_AZIMUTH_ANGLE_B8A', 'BLU': 'B2', 'GRN': 'B3', 'RED': 'B4', 'NIR': 'B8A', 'SW1': 'B11', 'SW2': 'B12'}\n",
      "<getCollection> SsrData info: {'NAME': 'S2_SR', 'SSR_CODE': 21, 'DATA_UNIT': 2, 'GAIN': <ee.ee_number.Number object at 0x0000025B2BE6C8C0>, 'OFFSET': <ee.ee_number.Number object at 0x0000025B2BE6C8F0>, 'ALL_BANDS': ['B1', 'B2', 'B3', 'B4', 'B5', 'B6', 'B7', 'B8', 'B8A', 'B9', 'B11', 'B12'], 'OUT_BANDS': ['B2', 'B3', 'B4', 'B5', 'B6', 'B7', 'B8', 'B8A', 'B11', 'B12'], '10M_BANDS': ['B2', 'B3', 'B4', 'B8'], 'SIX_BANDS': ['B2', 'B3', 'B4', 'B8A', 'B11', 'B12'], 'NoA_BANDS': ['B4', 'B5', 'B6', 'B7', 'B8', 'B8A', 'B11', 'B12'], 'GEE_NAME': 'COPERNICUS/S2_SR_HARMONIZED', 'CLOUD': 'CLOUDY_PIXEL_PERCENTAGE', 'SZA': 'MEAN_SOLAR_ZENITH_ANGLE', 'VZA': 'MEAN_INCIDENCE_ZENITH_ANGLE_B8A', 'SAA': 'MEAN_SOLAR_AZIMUTH_ANGLE', 'VAA': 'MEAN_INCIDENCE_AZIMUTH_ANGLE_B8A', 'BLU': 'B2', 'GRN': 'B3', 'RED': 'B4', 'NIR': 'B8A', 'SW1': 'B11', 'SW2': 'B12'}\n",
      "\n",
      "<getCollection> The year of time window =  2024\n",
      "<getCollection> Used cloud rate =  85\n",
      "\n",
      "<getCollection> The name of data catalog =  COPERNICUS/S2_SR_HARMONIZED\n",
      "<getCollection> The number of images in selected image collection =  239\n"
     ]
    }
   ],
   "source": [
    "sensor = params['sensor']\n",
    "year   = params['year']        # A string to define a targeted year\n",
    "\n",
    "region = eoTG.PolygonDict.get(params['tile_names'][0])  #includes bigger full tiles\n",
    "#region = eoTG.custom_RegionDict.get('StasCan')\n",
    "\n",
    "ssr_dict = Image.SSR_META_DICT[sensor]\n",
    "print('ssr dictionary = ', ssr_dict)\n",
    "\n",
    "start = '2024-08-01'  # A string to define a start date\n",
    "end   = '2024-08-31'  # A string to define a end date\n",
    "\n",
    "mosaic = Mosaic.HomoPeriodMosaic(ssr_dict, region, year, 1, start, end, Image.EXTRA_ANGLE, False)\n",
    "mosaic = Image.apply_gain_offset(mosaic, ssr_dict, 100, False)\n",
    "\n",
    "#mosaic = Mosaic.HLS_PeriodMosaic(2, region, year, 1, start, end, Image.EXTRA_ANGLE)\n",
    "\n",
    "#mosaic = Mosaic.LEAF_Mosaic(ssr_dict, region, start, end, True)\n"
   ]
  },
  {
   "cell_type": "markdown",
   "metadata": {},
   "source": [
    "## Test street blocks"
   ]
  },
  {
   "cell_type": "code",
   "execution_count": 5,
   "metadata": {
    "ExecuteTime": {
     "start_time": "2022-05-03T15:32:47.438Z"
    }
   },
   "outputs": [
    {
     "data": {
      "text/html": [
       "\n",
       "            <style>\n",
       "                .geemap-dark {\n",
       "                    --jp-widgets-color: white;\n",
       "                    --jp-widgets-label-color: white;\n",
       "                    --jp-ui-font-color1: white;\n",
       "                    --jp-layout-color2: #454545;\n",
       "                    background-color: #383838;\n",
       "                }\n",
       "\n",
       "                .geemap-dark .jupyter-button {\n",
       "                    --jp-layout-color3: #383838;\n",
       "                }\n",
       "\n",
       "                .geemap-colab {\n",
       "                    background-color: var(--colab-primary-surface-color, white);\n",
       "                }\n",
       "\n",
       "                .geemap-colab .jupyter-button {\n",
       "                    --jp-layout-color3: var(--colab-primary-surface-color, white);\n",
       "                }\n",
       "            </style>\n",
       "            "
      ],
      "text/plain": [
       "<IPython.core.display.HTML object>"
      ]
     },
     "metadata": {},
     "output_type": "display_data"
    },
    {
     "data": {
      "application/vnd.jupyter.widget-view+json": {
       "model_id": "634cd878216448d9a9083bca9ad3d057",
       "version_major": 2,
       "version_minor": 0
      },
      "text/plain": [
       "Map(center=[45.41, -75.72], controls=(WidgetControl(options=['position', 'transparent_bg'], widget=SearchDataG…"
      ]
     },
     "execution_count": 5,
     "metadata": {},
     "output_type": "execute_result"
    }
   ],
   "source": [
    "LC_vis = {\n",
    "'min': 0,\n",
    "'max': 1,\n",
    "'palette': ['006633', 'E5FFCC', '662A00', 'D8D8D8', 'F5F5F5', '555555', '999999', 'CCCCCC', 'FF0000', '00FF00', '0000FF']}\n",
    "\n",
    "\n",
    "dem_vis = {\n",
    "'min': 120,\n",
    "'max': 180,\n",
    "'palette': ['3ae237', 'b5e22e', 'd6e21f', 'fff705', 'ffd611', 'ffb613', 'ff8b13',\n",
    "            'ff6e08', 'ff500d', 'ff0000', 'de0101', 'c21301', '0602ff', '235cb1', \n",
    "            '307ef3', '269db1', '30c8e2', '32d3ef', '3be285', '3ff38f', '86e26f']}\n",
    "\n",
    "ESA_LCvis = {\n",
    "  'bands': ['Map'],\n",
    "};\n",
    "\n",
    "\n",
    "STD_vis = {\n",
    " 'min': 0,\n",
    " 'max': 60,\n",
    " 'gamma': 1.8,\n",
    " 'bands': ['nir', 'red', 'green']}\n",
    "\n",
    "LS_vis = {\n",
    " 'min': 0,\n",
    " 'max': 60,\n",
    " 'gamma': 1.8,\n",
    " 'bands': ['SR_B4', 'SR_B3', 'SR_B2']}\n",
    "\n",
    "S2_vis = {\n",
    " 'min': 0,\n",
    " 'max': 60,\n",
    " 'gamma': 1.8,\n",
    " 'bands': ['B4', 'B3', 'B2']}\n",
    "\n",
    "VL_vis = {\n",
    " 'min': 0,\n",
    " 'max': 1,\n",
    " 'gamma': 1.8,\n",
    " 'bands': ['SR_B4', 'SR_B3', 'SR_B2']}\n",
    "\n",
    "\n",
    "fraction_view = {'min': 0,\n",
    "                 'max': 1, \n",
    "                 'bands': ['band_0', 'band_1', 'band_2']};\n",
    "\n",
    "       \n",
    "\n",
    "Map = geemap.Map(center=[45.41, -75.72], zoom=4)\n",
    "Map"
   ]
  },
  {
   "cell_type": "code",
   "execution_count": 6,
   "metadata": {
    "ExecuteTime": {
     "end_time": "2022-05-03T14:49:18.040884Z",
     "start_time": "2022-05-03T14:49:15.802904Z"
    }
   },
   "outputs": [
    {
     "data": {
      "text/html": [
       "\n",
       "            <style>\n",
       "                .geemap-dark {\n",
       "                    --jp-widgets-color: white;\n",
       "                    --jp-widgets-label-color: white;\n",
       "                    --jp-ui-font-color1: white;\n",
       "                    --jp-layout-color2: #454545;\n",
       "                    background-color: #383838;\n",
       "                }\n",
       "\n",
       "                .geemap-dark .jupyter-button {\n",
       "                    --jp-layout-color3: #383838;\n",
       "                }\n",
       "\n",
       "                .geemap-colab {\n",
       "                    background-color: var(--colab-primary-surface-color, white);\n",
       "                }\n",
       "\n",
       "                .geemap-colab .jupyter-button {\n",
       "                    --jp-layout-color3: var(--colab-primary-surface-color, white);\n",
       "                }\n",
       "            </style>\n",
       "            "
      ],
      "text/plain": [
       "<IPython.core.display.HTML object>"
      ]
     },
     "metadata": {},
     "output_type": "display_data"
    }
   ],
   "source": [
    "#date_img = mosaic.select('date').subtract(51000)\n",
    "#Map.addLayer(date_img, dem_vis, 'date image')\n",
    "#Map.addLayer(landcover, {}, 'Land cover')\n",
    "\n",
    "Map.addLayer(mosaic, S2_vis, 'mosaic')\n",
    "Map.addLayer(mosaic.select('date'), dem_vis, 'AcqDate')\n"
   ]
  },
  {
   "cell_type": "code",
   "execution_count": null,
   "metadata": {},
   "outputs": [],
   "source": []
  }
 ],
 "metadata": {
  "kernelspec": {
   "display_name": "Python 3 (ipykernel)",
   "language": "python",
   "name": "python3"
  },
  "language_info": {
   "codemirror_mode": {
    "name": "ipython",
    "version": 3
   },
   "file_extension": ".py",
   "mimetype": "text/x-python",
   "name": "python",
   "nbconvert_exporter": "python",
   "pygments_lexer": "ipython3",
   "version": "3.12.4"
  },
  "toc": {
   "base_numbering": 1,
   "nav_menu": {},
   "number_sections": true,
   "sideBar": true,
   "skip_h1_title": false,
   "title_cell": "Table of Contents",
   "title_sidebar": "Contents",
   "toc_cell": false,
   "toc_position": {},
   "toc_section_display": true,
   "toc_window_display": false
  },
  "varInspector": {
   "cols": {
    "lenName": 16,
    "lenType": 16,
    "lenVar": 40
   },
   "kernels_config": {
    "python": {
     "delete_cmd_postfix": "",
     "delete_cmd_prefix": "del ",
     "library": "var_list.py",
     "varRefreshCmd": "print(var_dic_list())"
    },
    "r": {
     "delete_cmd_postfix": ") ",
     "delete_cmd_prefix": "rm(",
     "library": "var_list.r",
     "varRefreshCmd": "cat(var_dic_list()) "
    }
   },
   "types_to_exclude": [
    "module",
    "function",
    "builtin_function_or_method",
    "instance",
    "_Feature"
   ],
   "window_display": false
  }
 },
 "nbformat": 4,
 "nbformat_minor": 4
}
