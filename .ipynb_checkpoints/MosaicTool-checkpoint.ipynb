{
 "cells": [
  {
   "cell_type": "markdown",
   "metadata": {},
   "source": [
    "## Obtain Credentials (not everytime)\n",
    "\n",
    "Google Earth Engine (GEE) periodically requests users to renew their credentials by calling the 'ee.Authenticate()' function. Upon calling this function, a web page will open where you can sign in with your Google account. This step allows GEE to authenticate your identity and associate your API requests with your Google account. After the authentication process is successfully completed, a persistent token will be stored on your local machine (valid for a few days). "
   ]
  },
  {
   "cell_type": "code",
   "execution_count": 3,
   "metadata": {},
   "outputs": [
    {
     "data": {
      "text/html": [
       "<p>To authorize access needed by Earth Engine, open the following\n",
       "        URL in a web browser and follow the instructions:</p>\n",
       "        <p><a href=https://code.earthengine.google.com/client-auth?scopes=https%3A//www.googleapis.com/auth/earthengine%20https%3A//www.googleapis.com/auth/devstorage.full_control&request_id=AZTdO1opSNhoN_t5P4gfVk1-3qTzUwj4EhderMOX4FY&tc=yzPKg6RQDXIAIUcPuiK9g1lnU1ctYHYPJH5FvXUqSYs&cc=5WXlnN9zZfyID2-HP6FaPDL6p1ApsR905gh1YPPbrWo>https://code.earthengine.google.com/client-auth?scopes=https%3A//www.googleapis.com/auth/earthengine%20https%3A//www.googleapis.com/auth/devstorage.full_control&request_id=AZTdO1opSNhoN_t5P4gfVk1-3qTzUwj4EhderMOX4FY&tc=yzPKg6RQDXIAIUcPuiK9g1lnU1ctYHYPJH5FvXUqSYs&cc=5WXlnN9zZfyID2-HP6FaPDL6p1ApsR905gh1YPPbrWo</a></p>\n",
       "        <p>The authorization workflow will generate a code, which you should paste in the box below.</p>\n",
       "        "
      ],
      "text/plain": [
       "<IPython.core.display.HTML object>"
      ]
     },
     "metadata": {},
     "output_type": "display_data"
    },
    {
     "name": "stdout",
     "output_type": "stream",
     "text": [
      "Enter verification code:  4/1AfJohXmY7jcTG98dKqs1sbqjSEs54KzfN0yA3odYHHi1mWsw1cEOWS5o7To\n"
     ]
    },
    {
     "name": "stdout",
     "output_type": "stream",
     "text": [
      "\n",
      "Successfully saved authorization token.\n"
     ]
    }
   ],
   "source": [
    "import ee\n",
    "ee.Authenticate()"
   ]
  },
  {
   "cell_type": "markdown",
   "metadata": {},
   "source": [
    "## Initialize with Regular Google Account\n",
    "\n",
    "This is normally the start point to execute the Mosaic Tool. By calling the 'ee.Initialize()' function, the saved credentials will be automatically retrieved, allowing you to make requests through the GEE's Python API."
   ]
  },
  {
   "cell_type": "code",
   "execution_count": 1,
   "metadata": {},
   "outputs": [],
   "source": [
    "import ee\n",
    "ee.Initialize()\n",
    "\n",
    "import geemap\n",
    "import Image\n",
    "import Mosaic"
   ]
  },
  {
   "cell_type": "markdown",
   "metadata": {},
   "source": [
    "## Define Input Parameters\n",
    "\n",
    "To run the Mosaic Tool, a set of parameters must be supplied. To simplify the provision of these parameters, a Python dictionary is utilized as a container to hold 12 “key:value” pairs, with the last three being optional. Each parameter is outlined as follows:\n",
    "   \n",
    "(1) Value for 'sensor' key: a string denoting the sensor type and data unit. Currently, valid values include 'L8_SR', 'S2_SR', 'L8_TOA' and 'S2_TOA', which denote Landsat 8/9 and Sentinel-2 surface reflectance and TOA reflectance data, respectively. \n",
    "\n",
    "(2) Value for 'year' key: a 4-digits integer representing the acquisition year (e.g., 2020) of the daily images used in the compositing.\n",
    "\n",
    "(3) Value for 'months' key: a list of integers specifying the months of the year (e.g., [6, 7] for June and July). With a list of month numbers, the Mosaic Tool can produce multiple monthly composite images in a single execution. To generate a composite image for a peak season \n",
    "(June 15 to September 15) of a year (defined by the value of the 'year' key), simply include a negative integer in the list.\n",
    "\n",
    "(4) Value for 'tile_names' key: a set of strings representing the names of grid tiles, each covering a 900km x 900km area. By providing a list of tile names, the Mosaic Tool can create composite images for multiple tiles in a single execution. To generate a composite image for a customized region, include an additional \"key:value\" pair in this parameter dictionary (see the value specification for 'custom_region' key. \n",
    "\n",
    "(5) Value for 'spatial_scale' key: an integer defining the spatial resolution (in meters) for exporting the resultant composite images (e.g., 30 and 20 for Landsat and Sentinel-2 composites, respectively).\n",
    "\n",
    "(6) Value for 'out_location' key: a string specifying the destination for exporting the resultant composites. Valid values are 'drive' for Google Drive (GD) or 'storage' for Google Cloud Storage (GCS).\n",
    "\n",
    "(7) Value for 'GCS_bucket' key: a string indicating a bucket name on GCS. This parameter is necessary only when the exporting destination is GCS ('storage' for 'out_location' key). Note that the specified bucket must exist on GCS before exporting. \n",
    "\n",
    "(8) Value for 'out_folder' key: the folder name on GD or GCS for exporting composites. If you prefer not to export all the composites to the same directory, leave an empty string for this key. The Tool will then automatically create separate folders for the composites of different tiles according to tile name and acquisition year.\n",
    "\n",
    "(9) Value for 'custom_region' key: an \"ee.Geometry\" object created using the \"ee.Geometry.Polygon()\" function, which takes a list of Latitude and Longitude coordinates as inputs. Include this 'key:value' pair only when a customized region has to be defined. Otherwise, DO NOT include this 'key:value' pair in the parameter dictionary, as it will overwrite the values for the 'tile_names' key. \n",
    "\n",
    "(10) Value 'start_date' key: a string (e.g., '2022-06-15') to specify the start date of a customized compositing period. \n",
    "\n",
    "(11) Value for 'end_date' key: a string (e.g., '2022-09-15') to specify the end date of a custmoized compositing period. Please note that the strings for 'start_date' and 'end_date' keys should be omitted from this parameter dictionary unless a user-defined compositing period needs to be specified.\n",
    "\n",
    "(12) value for 'projection' key: a string specifying a customized projection. The default projection used in the LEAF Tool is 'EPSG:3979'.\n",
    "\n",
    "\n",
    "Among the 12 input parameters, 2 keys ('months' and 'tile_names') require list inputs. By combining these lists differently, you can handle various scenarios for producing composites. For instance, by providing [7, 8] and ['tile41', 'tile42', 'tile43']) to 'months' and 'tile_names' keys, respectively, you can create July and August monthly composites for each of the three tiles."
   ]
  },
  {
   "cell_type": "code",
   "execution_count": 4,
   "metadata": {},
   "outputs": [],
   "source": [
    "user_region = ee.Geometry.Polygon([[-76.12016546887865,45.183832177265906], [-75.38339483899584,45.170763450281996],\n",
    "                                     [-75.39026129407397,45.5639242833682], [-76.10505926770678,45.56776998764525], \n",
    "                                     [-76.12016546887865,45.183832177265906]])"
   ]
  },
  {
   "cell_type": "code",
   "execution_count": 2,
   "metadata": {
    "ExecuteTime": {
     "end_time": "2022-04-02T21:06:31.192679Z",
     "start_time": "2022-04-02T21:06:31.187684Z"
    }
   },
   "outputs": [
    {
     "data": {
      "text/html": [
       "\n",
       "            <style>\n",
       "                .geemap-dark {\n",
       "                    --jp-widgets-color: white;\n",
       "                    --jp-widgets-label-color: white;\n",
       "                    --jp-ui-font-color1: white;\n",
       "                    --jp-layout-color2: #454545;\n",
       "                    background-color: #383838;\n",
       "                }\n",
       "\n",
       "                .geemap-dark .jupyter-button {\n",
       "                    --jp-layout-color3: #383838;\n",
       "                }\n",
       "\n",
       "                .geemap-colab {\n",
       "                    background-color: var(--colab-primary-surface-color, white);\n",
       "                }\n",
       "\n",
       "                .geemap-colab .jupyter-button {\n",
       "                    --jp-layout-color3: var(--colab-primary-surface-color, white);\n",
       "                }\n",
       "            </style>\n",
       "            "
      ],
      "text/plain": [
       "<IPython.core.display.HTML object>"
      ]
     },
     "metadata": {},
     "output_type": "display_data"
    }
   ],
   "source": [
    "params =  {\n",
    "    'sensor': 'S2_SR',            # A sensor type string (e.g., 'S2_SR' or 'L8_SR')\n",
    "    'year': 2024,                 # An integer representing image acquisition year\n",
    "    'nbYears': -1,                 # positive int for annual product, or negative int for monthly product\n",
    "    'months': [8],                # A list of integers represening one or multiple monthes     \n",
    "    'tile_names': ['tile55_933'],       # A list of (sub-)tile names (defined using CCRS' tile griding system) \n",
    "    'prod_names': ['mosaic', 'date'],  \n",
    "    'out_location': 'drive',      # Exporting location ('drive', 'storage' or 'asset') \n",
    "    'resolution': 100,              # Exporting spatial resolution\n",
    "    'GCS_bucket': 's2_mosaic_2020',   # An unique bucket name on Google Cloud Storage\n",
    "    'out_folder': 'test_mosaic_tool', # the folder name for exporting\n",
    "    \n",
    "    #'extra_bands': Image.EXTRA_ANGLE, # Image.EXTRA_ANGLE and Image.EXTRA_NONE represent with and without imaging angles in output, respectively \n",
    "    #'custom_region': user_region, # A given user-defined region. Only include this 'key:value' pair as necessary\n",
    "    #'start_date': '2022-06-15',   # A string for specifying the start date of a customized compositing period.\n",
    "    #'end_date': '2022-09-15',     # A string for specifying the end date of a customized compositing period.\n",
    "    #'CloudScore': False\n",
    "}"
   ]
  },
  {
   "cell_type": "markdown",
   "metadata": {},
   "source": [
    "## Generate and Export Compositing Products"
   ]
  },
  {
   "cell_type": "code",
   "execution_count": 3,
   "metadata": {
    "ExecuteTime": {
     "end_time": "2022-03-30T02:25:41.239479Z",
     "start_time": "2022-03-30T02:25:17.130556Z"
    }
   },
   "outputs": [
    {
     "data": {
      "text/html": [
       "\n",
       "            <style>\n",
       "                .geemap-dark {\n",
       "                    --jp-widgets-color: white;\n",
       "                    --jp-widgets-label-color: white;\n",
       "                    --jp-ui-font-color1: white;\n",
       "                    --jp-layout-color2: #454545;\n",
       "                    background-color: #383838;\n",
       "                }\n",
       "\n",
       "                .geemap-dark .jupyter-button {\n",
       "                    --jp-layout-color3: #383838;\n",
       "                }\n",
       "\n",
       "                .geemap-colab {\n",
       "                    background-color: var(--colab-primary-surface-color, white);\n",
       "                }\n",
       "\n",
       "                .geemap-colab .jupyter-button {\n",
       "                    --jp-layout-color3: var(--colab-primary-surface-color, white);\n",
       "                }\n",
       "            </style>\n",
       "            "
      ],
      "text/plain": [
       "<IPython.core.display.HTML object>"
      ]
     },
     "metadata": {},
     "output_type": "display_data"
    },
    {
     "ename": "TypeError",
     "evalue": "Mosaic_production() missing 1 required positional argument: 'ExtraBandCode'",
     "output_type": "error",
     "traceback": [
      "\u001b[1;31m---------------------------------------------------------------------------\u001b[0m",
      "\u001b[1;31mTypeError\u001b[0m                                 Traceback (most recent call last)",
      "Cell \u001b[1;32mIn[3], line 1\u001b[0m\n\u001b[1;32m----> 1\u001b[0m mosaic \u001b[38;5;241m=\u001b[39m \u001b[43mMosaic\u001b[49m\u001b[38;5;241;43m.\u001b[39;49m\u001b[43mMosaic_production\u001b[49m\u001b[43m(\u001b[49m\u001b[43mparams\u001b[49m\u001b[43m,\u001b[49m\u001b[43m \u001b[49m\u001b[38;5;28;43;01mFalse\u001b[39;49;00m\u001b[43m)\u001b[49m\n",
      "\u001b[1;31mTypeError\u001b[0m: Mosaic_production() missing 1 required positional argument: 'ExtraBandCode'"
     ]
    }
   ],
   "source": [
    "mosaic = Mosaic.Mosaic_production(params, False)"
   ]
  },
  {
   "cell_type": "markdown",
   "metadata": {},
   "source": [
    "## Check the Status of Exporting Tasks (optional)\n",
    "\n",
    "Depending on whether you are using a regular Google account or a Google Service account to operate Google Earth Engine, there are two methods available to monitor the status of exporting tasks. If you're using a regular Google account, you can check the status by either accessing the \"Tasks\" tab located in the right panel of your Earth Engine Code Editor or executing the code provided in the subsequent cell. However, if you're using a Google Service account, the only way to monitor the status of exporting tasks is by running the code in the following cell.\n",
    "\n",
    "The function \"manage_tasks\" requires two input parameters. The first parameter is a string and can take either 'status' or 'cancel' as its value. 'status' is used to check the status of exporting tasks, while 'cancel' is used to cancel all the exporting tasks. The second parameter is a string used to filter task names. For instance, providing '2019' will retrieve tasks with names that include '2019'. "
   ]
  },
  {
   "cell_type": "code",
   "execution_count": 4,
   "metadata": {
    "ExecuteTime": {
     "end_time": "2022-03-30T02:42:09.948875Z",
     "start_time": "2022-03-30T02:42:09.323176Z"
    }
   },
   "outputs": [
    {
     "data": {
      "text/html": [
       "\n",
       "            <style>\n",
       "                .geemap-dark {\n",
       "                    --jp-widgets-color: white;\n",
       "                    --jp-widgets-label-color: white;\n",
       "                    --jp-ui-font-color1: white;\n",
       "                    --jp-layout-color2: #454545;\n",
       "                    background-color: #383838;\n",
       "                }\n",
       "\n",
       "                .geemap-dark .jupyter-button {\n",
       "                    --jp-layout-color3: #383838;\n",
       "                }\n",
       "\n",
       "                .geemap-colab {\n",
       "                    background-color: var(--colab-primary-surface-color, white);\n",
       "                }\n",
       "\n",
       "                .geemap-colab .jupyter-button {\n",
       "                    --jp-layout-color3: var(--colab-primary-surface-color, white);\n",
       "                }\n",
       "            </style>\n",
       "            "
      ],
      "text/plain": [
       "<IPython.core.display.HTML object>"
      ]
     },
     "metadata": {},
     "output_type": "display_data"
    }
   ],
   "source": [
    "Image.manage_tasks('status', '2024')"
   ]
  },
  {
   "cell_type": "code",
   "execution_count": null,
   "metadata": {},
   "outputs": [],
   "source": []
  }
 ],
 "metadata": {
  "kernelspec": {
   "display_name": "Python 3 (ipykernel)",
   "language": "python",
   "name": "python3"
  },
  "language_info": {
   "codemirror_mode": {
    "name": "ipython",
    "version": 3
   },
   "file_extension": ".py",
   "mimetype": "text/x-python",
   "name": "python",
   "nbconvert_exporter": "python",
   "pygments_lexer": "ipython3",
   "version": "3.12.4"
  },
  "toc": {
   "base_numbering": 1,
   "nav_menu": {},
   "number_sections": true,
   "sideBar": true,
   "skip_h1_title": false,
   "title_cell": "Table of Contents",
   "title_sidebar": "Contents",
   "toc_cell": false,
   "toc_position": {},
   "toc_section_display": true,
   "toc_window_display": false
  },
  "varInspector": {
   "cols": {
    "lenName": 16,
    "lenType": 16,
    "lenVar": 40
   },
   "kernels_config": {
    "python": {
     "delete_cmd_postfix": "",
     "delete_cmd_prefix": "del ",
     "library": "var_list.py",
     "varRefreshCmd": "print(var_dic_list())"
    },
    "r": {
     "delete_cmd_postfix": ") ",
     "delete_cmd_prefix": "rm(",
     "library": "var_list.r",
     "varRefreshCmd": "cat(var_dic_list()) "
    }
   },
   "types_to_exclude": [
    "module",
    "function",
    "builtin_function_or_method",
    "instance",
    "_Feature"
   ],
   "window_display": false
  }
 },
 "nbformat": 4,
 "nbformat_minor": 4
}
