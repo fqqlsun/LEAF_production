{
 "cells": [
  {
   "cell_type": "markdown",
   "metadata": {},
   "source": [
    "## Obtain Credentials (not everytime)\n",
    "\n",
    "Google Earth Engine (GEE) periodically requests users to renew their credentials by calling the 'ee.Authenticate()' function. Upon calling this function, a web page will open where you can sign in with your Google account. This step allows GEE to authenticate your identity and associate your API requests with your Google account. After the authentication process is successfully completed, a persistent token will be stored on your local machine (valid for a few days). "
   ]
  },
  {
   "cell_type": "code",
   "execution_count": 3,
   "metadata": {},
   "outputs": [
    {
     "data": {
      "text/html": [
       "<p>To authorize access needed by Earth Engine, open the following\n",
       "        URL in a web browser and follow the instructions:</p>\n",
       "        <p><a href=https://code.earthengine.google.com/client-auth?scopes=https%3A//www.googleapis.com/auth/earthengine%20https%3A//www.googleapis.com/auth/devstorage.full_control&request_id=AZTdO1opSNhoN_t5P4gfVk1-3qTzUwj4EhderMOX4FY&tc=yzPKg6RQDXIAIUcPuiK9g1lnU1ctYHYPJH5FvXUqSYs&cc=5WXlnN9zZfyID2-HP6FaPDL6p1ApsR905gh1YPPbrWo>https://code.earthengine.google.com/client-auth?scopes=https%3A//www.googleapis.com/auth/earthengine%20https%3A//www.googleapis.com/auth/devstorage.full_control&request_id=AZTdO1opSNhoN_t5P4gfVk1-3qTzUwj4EhderMOX4FY&tc=yzPKg6RQDXIAIUcPuiK9g1lnU1ctYHYPJH5FvXUqSYs&cc=5WXlnN9zZfyID2-HP6FaPDL6p1ApsR905gh1YPPbrWo</a></p>\n",
       "        <p>The authorization workflow will generate a code, which you should paste in the box below.</p>\n",
       "        "
      ],
      "text/plain": [
       "<IPython.core.display.HTML object>"
      ]
     },
     "metadata": {},
     "output_type": "display_data"
    },
    {
     "name": "stdout",
     "output_type": "stream",
     "text": [
      "Enter verification code:  4/1AfJohXmY7jcTG98dKqs1sbqjSEs54KzfN0yA3odYHHi1mWsw1cEOWS5o7To\n"
     ]
    },
    {
     "name": "stdout",
     "output_type": "stream",
     "text": [
      "\n",
      "Successfully saved authorization token.\n"
     ]
    }
   ],
   "source": [
    "import ee\n",
    "ee.Authenticate()"
   ]
  },
  {
   "cell_type": "markdown",
   "metadata": {},
   "source": [
    "## Initialize with Regular Google Account\n",
    "\n",
    "This is normally the start point to use LEAF Production Tool. By calling the 'ee.Initialize()' function, the saved credentials will be automatically retrieved, allowing you to make requests through the GEE's Python API."
   ]
  },
  {
   "cell_type": "code",
   "execution_count": 1,
   "metadata": {},
   "outputs": [],
   "source": [
    "import ee\n",
    "ee.Initialize()\n",
    "\n",
    "import geemap\n",
    "import Image\n",
    "import LEAFNets as LFNs"
   ]
  },
  {
   "cell_type": "markdown",
   "metadata": {},
   "source": [
    "## Define Input Parameters\n",
    "\n",
    "To run the LEAF production tool, a set of parameters must be supplied. To streamline the provision of these parameters, a Python dictionary is used as a container, capable of holding 12 “key:value” pairs (the last three are optional), each detailed as follows:\n",
    "\n",
    "(1) Value for 'sensor' key: a string denoting the sensor type and data unit. Currently, valid values include 'L8_SR', 'S2_SR', 'L8_TOA' and 'S2_TOA', which denote Landsat 8/9 and Sentinel-2 surface reflectance and TOA reflectance data, respectively. \n",
    "\n",
    "(2) Value for 'year' key: a 4-digits integr representing the acquisition year (e.g., 2020) of the daily images used in compositing.\n",
    "\n",
    "(3) Value for 'months' key: a list of integers specifying the months of a year (e.g., [6, 7] for June and July). With a list of month numbers, multiple monthly composite images can be generated through a single execution of the Mosaic Tool. To generate a composite image for a peak season \n",
    "(June 15 to September 15) of a year (defined by the value of the 'year' key), just include a negative integer in this list.\n",
    "\n",
    "(4) Value for 'prod_names' key: a list of biophysical parameter name strings, which can be a subset or all of the elements in ['LAI', 'fCOVER', 'Albedo', 'fAPAR', 'QC', 'date', 'partition'].\n",
    "\n",
    "(5) Value for 'tile_names' key: a set of strings representing the names of grid tiles, each covering a 900km x 900km area. Providing a list of tile names allows the creation of composite images for multiple tiles through a single execution of the Mosaic Tool. To generate a composite image for a customized region, an additional \"key:value\" pair must be included in this parameter dictionary (refer to the value specification for 'custom_region' key. \n",
    "\n",
    "(6) Value for 'spatial_scale' key: an integer (e.g., 30 and 20 for Landsat and Sentinel-2 composites, respectively) defining the spatial resolution (in meters) for exporting resultant composite images.\n",
    "\n",
    "(7) Value for 'out_location' key: a string specifying the destination location for exporting resultant composite images. Valid values for this key are 'drive' or 'storage', indicating Google Drive (GD) or Google Cloud Storage (GCS), respectively.\n",
    "\n",
    "(8) Value for 'GCS_bucket' key: a string indicating a bucket name on GCS. This parameter is necessary only when the exporting destination is GCS ('storage' for 'out_location' key). Note that the specified bucket must exist on your GCS before exporting. \n",
    "\n",
    "(9) Value for 'out_folder' key: the folder name on GD or GCS for exporting composites. If you prefer not to export all the composites to the same directory, leave an empty string for this key. In this case, the Tool will automatically create separate folders for the composites of different tiles according to tile name and acquisition year.\n",
    "\n",
    "(10) Value for 'custom_region' key: an \"ee.Geometry\" object created with the \"ee.Geometry.Polygon()\" function, taking a list of Latitude and Longitas coordinates as inputs. This 'key:value' pair is required only when a customized region has to be defined. Otherwise, DO NOT include this 'key:value' pair in parameter dictionary, as it will overwrite the values for the 'tile_names' key. \n",
    "\n",
    "(11) Value 'start_date' key: a string (e.g., '2022-06-15') for specifying the start date of a customized compositing period. \n",
    "\n",
    "(12) Value for 'end_date' key: a string (e.g., '2022-09-15') for specifying the end date of a custmoized compositing period. Please be aware that the strings for 'start_date' and 'end_date' keys should be omitted from this parameter dictionary unless a user-defined compositing period needs to be specified.\n",
    "\n",
    "Among the 12 input parameters, 3 keys ('months', 'prod_names' and 'tile_names') require list inputs. With different combinations between these 3 lists, various scenarios for producing vegetation biophysical parameter maps can be carried out. For instance, to generate monthly (e.g., July and August) biophysical parameter maps for multiple tiles (e.g., 'tile41', 'tile42' and 'tile43'), two lists, [7, 8] and ['tile41', 'tile42', 'tile43'], should be specified for 'months' and 'tile_names' keys, respectively.    "
   ]
  },
  {
   "cell_type": "code",
   "execution_count": null,
   "metadata": {},
   "outputs": [],
   "source": [
    "ottawa_region = ee.Geometry.Polygon([[-76.12016546887865,45.183832177265906], [-75.38339483899584,45.170763450281996],\n",
    "                                     [-75.39026129407397,45.5639242833682], [-76.10505926770678,45.56776998764525], \n",
    "                                     [-76.12016546887865,45.183832177265906]])\n",
    "\n",
    "user_region = ee.Geometry.Polygon([[0.9637900778919472,50.91403368831729],[0.9702334792675978,50.91699007337573], [1.373015219949208,51.143035232142026],\n",
    "                          [1.392425687228554,51.161210528531235], [1.3993416800246405,51.17487321017443], [1.7590038910436083,52.48232628523823], \n",
    "                            [1.7397985726778475,52.632339348548456],[-0.7617973294684357,60.818076114961116],[-0.7720487663815042,60.82957167065116],\n",
    "                          [-0.84006341916535,60.84228905763035],[-0.8825987706179472,60.84579837326019],[-0.8989190990526906,60.84100929771918],\n",
    "                            [-6.151035538784849,59.10082279852729], [-8.649648277561651,57.8312632023955], [-8.65067837292272,57.82940821160297],\n",
    "                           [-8.181906429548674,54.466265077464875], [-6.358374907753275,49.891254089262475], [-6.348185796971474,49.88672370082926],\n",
    "                         [-6.345300748028998,49.88588533845501], [-5.207257982555416,49.961039056211824], [-5.202317312264887,49.96157416319619],\n",
    "                            [0.23758982626651468,50.73736405209513], [0.25584985355543854,50.74020452310862],[0.9637900778919472,50.91403368831729]])\n"
   ]
  },
  {
   "cell_type": "code",
   "execution_count": 2,
   "metadata": {
    "ExecuteTime": {
     "end_time": "2022-04-02T21:06:31.192679Z",
     "start_time": "2022-04-02T21:06:31.187684Z"
    }
   },
   "outputs": [],
   "source": [
    "params = {\n",
    "    'sensor': 'S2_SR',               # A string indicating sensor and data unit (e.g., 'S2_SR' or 'L8_SR')    \n",
    "    'year': 2023,                    # An integer representing image acquisition year\n",
    "    'months': [5,6,7,8,9,10],        # A set of integers represening months (a negative value means whole summer)\n",
    "    'start_date': '2022-07-01',     # A string for specifying the start date of a customized compositing period.\n",
    "    'end_date': '2022-08-31',       # A string for specifying the end date of a customized compositing period.\n",
    "    'tile_names': ['tile55'],        # A list of tile name strings as per the CCRS' tile griding system\n",
    "    'prod_names': ['LAI', 'date'],   # ['LAI','fAPAR','fCOVER','Albedo', 'QC', 'date', 'partition']\n",
    "    'spatial_scale': 20,             # The spatial resultion (in meter) of the exported products\n",
    "    'out_location': 'drive',         # The destination of exporting the products ('drive' or 'storage')     \n",
    "    'GCS_bucket': 'LEAF_production', # An unique bucket name in GCS (must have been created beforehand)\n",
    "    'out_folder': 'S2_leaf_2023',    # The folder name intended for exporting products in either GD or GCS\n",
    "    #'custom_region': ottawa_region, # A given user-defined region. Only include this 'key:value' pair as necessary\n",
    "}"
   ]
  },
  {
   "cell_type": "markdown",
   "metadata": {},
   "source": [
    "## Generate and Export Biophysical Products"
   ]
  },
  {
   "cell_type": "code",
   "execution_count": 3,
   "metadata": {
    "ExecuteTime": {
     "end_time": "2022-03-30T02:25:41.239479Z",
     "start_time": "2022-03-30T02:25:17.130556Z"
    }
   },
   "outputs": [
    {
     "ename": "KeyError",
     "evalue": "'stop_date'",
     "output_type": "error",
     "traceback": [
      "\u001b[1;31m---------------------------------------------------------------------------\u001b[0m",
      "\u001b[1;31mKeyError\u001b[0m                                  Traceback (most recent call last)",
      "Cell \u001b[1;32mIn[3], line 1\u001b[0m\n\u001b[1;32m----> 1\u001b[0m mosaic \u001b[38;5;241m=\u001b[39m \u001b[43mLFNs\u001b[49m\u001b[38;5;241;43m.\u001b[39;49m\u001b[43mLEAF_production\u001b[49m\u001b[43m(\u001b[49m\u001b[43mparams\u001b[49m\u001b[43m)\u001b[49m\n",
      "File \u001b[1;32m~\\LEAF_production\\LEAFNets.py:1763\u001b[0m, in \u001b[0;36mLEAF_production\u001b[1;34m(inExeParams)\u001b[0m\n\u001b[0;32m   1760\u001b[0m   \u001b[38;5;28mprint\u001b[39m(\u001b[38;5;124m'\u001b[39m\u001b[38;5;130;01m\\n\u001b[39;00m\u001b[38;5;124m<Mosaic_production> Calling custom_composite function......\u001b[39m\u001b[38;5;124m'\u001b[39m)\n\u001b[0;32m   1761\u001b[0m   custom_LEAF_production(exe_Params, task_list)\n\u001b[1;32m-> 1763\u001b[0m \u001b[38;5;28;01melif\u001b[39;00m \u001b[43meoParams\u001b[49m\u001b[38;5;241;43m.\u001b[39;49m\u001b[43mis_custom_window\u001b[49m\u001b[43m(\u001b[49m\u001b[43mexe_Params\u001b[49m\u001b[43m)\u001b[49m \u001b[38;5;241m==\u001b[39m \u001b[38;5;28;01mTrue\u001b[39;00m:\n\u001b[0;32m   1764\u001b[0m   \u001b[38;5;66;03m# There is a customized compositing period specified in Parameter dictionary \u001b[39;00m\n\u001b[0;32m   1765\u001b[0m   \u001b[38;5;28mprint\u001b[39m(\u001b[38;5;124m'\u001b[39m\u001b[38;5;130;01m\\n\u001b[39;00m\u001b[38;5;124m<Mosaic_production> Calling custom_composite function......\u001b[39m\u001b[38;5;124m'\u001b[39m)\n\u001b[0;32m   1766\u001b[0m   custom_LEAF_production(exe_Params, task_list)\n",
      "File \u001b[1;32m~\\LEAF_production\\eoParams.py:127\u001b[0m, in \u001b[0;36mis_custom_window\u001b[1;34m(inParams)\u001b[0m\n\u001b[0;32m    125\u001b[0m start_len \u001b[38;5;241m=\u001b[39m \u001b[38;5;28mlen\u001b[39m(inParams[\u001b[38;5;124m'\u001b[39m\u001b[38;5;124mstart_date\u001b[39m\u001b[38;5;124m'\u001b[39m])\n\u001b[0;32m    126\u001b[0m end_len   \u001b[38;5;241m=\u001b[39m \u001b[38;5;28mlen\u001b[39m(inParams[\u001b[38;5;124m'\u001b[39m\u001b[38;5;124mend_date\u001b[39m\u001b[38;5;124m'\u001b[39m])\n\u001b[1;32m--> 127\u001b[0m stop_len  \u001b[38;5;241m=\u001b[39m \u001b[38;5;28mlen\u001b[39m(\u001b[43minParams\u001b[49m\u001b[43m[\u001b[49m\u001b[38;5;124;43m'\u001b[39;49m\u001b[38;5;124;43mstop_date\u001b[39;49m\u001b[38;5;124;43m'\u001b[39;49m\u001b[43m]\u001b[49m)\n\u001b[0;32m    128\u001b[0m \u001b[38;5;28mprint\u001b[39m(\u001b[38;5;124m'\u001b[39m\u001b[38;5;124m<is_custom_window> The string lengths of start and end dates are:\u001b[39m\u001b[38;5;124m'\u001b[39m, start_len, end_len)\n\u001b[0;32m    130\u001b[0m \u001b[38;5;28;01mreturn\u001b[39;00m \u001b[38;5;28;01mTrue\u001b[39;00m \u001b[38;5;28;01mif\u001b[39;00m start_len \u001b[38;5;241m>\u001b[39m \u001b[38;5;241m7\u001b[39m \u001b[38;5;129;01mand\u001b[39;00m end_len \u001b[38;5;241m>\u001b[39m \u001b[38;5;241m7\u001b[39m \u001b[38;5;28;01melse\u001b[39;00m \u001b[38;5;28;01mFalse\u001b[39;00m\n",
      "\u001b[1;31mKeyError\u001b[0m: 'stop_date'"
     ]
    }
   ],
   "source": [
    "mosaic = LFNs.LEAF_production(params)"
   ]
  },
  {
   "cell_type": "markdown",
   "metadata": {},
   "source": [
    "## Check the Status of Exporting Tasks (optional)\n",
    "\n",
    "Depending on whether you are using a regular Google account or a Google Service account to operate Google Earth Engine, there are two methods available to monitor the status of exporting tasks. If you're using a regular Google account, you can check the status by either accessing the \"Tasks\" tab located in the right panel of your Earth Engine Code Editor or executing the code provided in the subsequent cell. However, if you're using a Google Service account, the only way to monitor the status of exporting tasks is by running the code in the following cell.\n",
    "\n",
    "The function \"manage_tasks\" requires two input parameters. The first parameter is a string and can take either 'status' or 'cancel' as its value. 'status' is used to check the status of exporting tasks, while 'cancel' is used to cancel all the exporting tasks. The second parameter is a string used to filter task names. For instance, providing '2019' will retrieve tasks with names that include '2019'. "
   ]
  },
  {
   "cell_type": "code",
   "execution_count": 4,
   "metadata": {
    "ExecuteTime": {
     "end_time": "2022-03-30T02:42:09.948875Z",
     "start_time": "2022-03-30T02:42:09.323176Z"
    }
   },
   "outputs": [
    {
     "name": "stdout",
     "output_type": "stream",
     "text": [
      "tile55_2020_Jul_QC_200m has been cancelled.\n",
      "tile55_2020_Jul_Albedo_200m has been cancelled.\n",
      "tile55_2020_Jul_fAPAR_200m has been cancelled.\n",
      "tile55_2020_Jul_fCOVER_200m has been cancelled.\n",
      "tile55_2020_Jul_LAI_200m has been cancelled.\n",
      "tile55_2020_Jul_QC_200m has been cancelled.\n",
      "tile55_2020_Jul_Albedo_200m has been cancelled.\n",
      "tile55_2020_Jul_fAPAR_200m has been cancelled.\n",
      "tile55_2020_Jul_fCOVER_200m has been cancelled.\n",
      "tile55_2020_Jul_LAI_200m has been cancelled.\n",
      "tile55_2020_Jul_QC_200m has been cancelled.\n",
      "tile55_2020_Jul_Albedo_200m has been cancelled.\n",
      "tile55_2020_Jul_fAPAR_200m has been cancelled.\n",
      "tile55_2020_Jul_fCOVER_200m has been cancelled.\n",
      "tile55_2020_Jul_LAI_200m has been cancelled.\n",
      "tile55_2020_Jul_QC_200m has been cancelled.\n",
      "tile55_2020_Jul_Albedo_200m has been cancelled.\n",
      "tile55_2020_Jul_fAPAR_200m has been cancelled.\n",
      "tile55_2020_Jul_fCOVER_200m has been cancelled.\n",
      "tile55_2020_Jul_LAI_200m has been cancelled.\n",
      "tile55_2020_Jul_QC_200m has been cancelled.\n",
      "tile55_2020_Jul_Albedo_200m has been cancelled.\n",
      "tile55_2020_Jul_fAPAR_200m has been cancelled.\n",
      "tile55_2020_Jul_fCOVER_200m has been cancelled.\n",
      "tile55_2020_Jul_LAI_200m has been cancelled.\n",
      "tile55_2020_Jul_QC_200m has been cancelled.\n",
      "tile55_2020_Jul_Albedo_200m has been cancelled.\n",
      "tile55_2020_Jul_fAPAR_200m has been cancelled.\n",
      "tile55_2020_Jul_fCOVER_200m has been cancelled.\n",
      "tile55_2020_Jul_LAI_200m has been cancelled.\n",
      "tile55_2020_Jul_QC_200m has been cancelled.\n",
      "tile55_2020_Jul_Albedo_200m has been cancelled.\n",
      "tile55_2020_Jul_fAPAR_200m has been cancelled.\n",
      "tile55_2020_Jul_fCOVER_200m has been cancelled.\n",
      "tile55_2020_Jul_LAI_200m has been cancelled.\n",
      "tile55_2020_Jul_QC_200m has been cancelled.\n",
      "tile55_2020_Jul_Albedo_200m has been cancelled.\n",
      "tile55_2020_Jul_fAPAR_200m has been cancelled.\n",
      "tile55_2020_Jul_fCOVER_200m has been cancelled.\n",
      "tile55_2020_Jul_LAI_200m has been cancelled.\n",
      "tile55_2020_Jul_QC_200m has been cancelled.\n",
      "tile55_2020_Jul_Albedo_200m has been cancelled.\n",
      "tile55_2020_Jul_fAPAR_200m has been cancelled.\n",
      "tile55_2020_Jul_fCOVER_200m has been cancelled.\n",
      "tile55_2020_Jul_LAI_200m has been cancelled.\n",
      "tile55_2020_Jul_QC_200m has been cancelled.\n",
      "tile55_2020_Jul_Albedo_200m has been cancelled.\n",
      "tile55_2020_Jul_fAPAR_200m has been cancelled.\n",
      "tile55_2020_Jul_fCOVER_200m has been cancelled.\n",
      "tile55_2020_Jul_LAI_200m has been cancelled.\n",
      "tile55_2020_Jul_QC_200m has been cancelled.\n",
      "tile55_2020_Jul_Albedo_200m has been cancelled.\n",
      "tile55_2020_Jul_fAPAR_200m has been cancelled.\n",
      "tile55_2020_Jul_fCOVER_200m has been cancelled.\n",
      "tile55_2020_Jul_LAI_200m has been cancelled.\n",
      "tile55_2020_Jul_QC_200m has been cancelled.\n",
      "tile55_2020_Jul_Albedo_200m has been cancelled.\n",
      "tile55_2020_Jul_fAPAR_200m has been cancelled.\n",
      "tile55_2020_Jul_fCOVER_200m has been cancelled.\n",
      "tile55_2020_Jul_LAI_200m has been cancelled.\n",
      "tile55_2020_Aug_QC_20m has been cancelled.\n",
      "tile55_2020_Aug_Albedo_20m has been cancelled.\n",
      "tile55_2020_Aug_fAPAR_20m has been cancelled.\n",
      "tile55_2020_Aug_fCOVER_20m has been cancelled.\n",
      "tile55_2020_Aug_LAI_20m has been cancelled.\n",
      "tile55_2020_Jul_QC_20m has been cancelled.\n",
      "tile55_2020_Jul_Albedo_20m has been cancelled.\n",
      "tile55_2020_Jul_fAPAR_20m has been cancelled.\n",
      "tile55_2020_Jul_fCOVER_20m has been cancelled.\n",
      "tile55_2020_Jul_LAI_20m has been cancelled.\n"
     ]
    }
   ],
   "source": [
    "Image.manage_tasks('cancel', '2020')"
   ]
  }
 ],
 "metadata": {
  "kernelspec": {
   "display_name": "Python 3 (ipykernel)",
   "language": "python",
   "name": "python3"
  },
  "language_info": {
   "codemirror_mode": {
    "name": "ipython",
    "version": 3
   },
   "file_extension": ".py",
   "mimetype": "text/x-python",
   "name": "python",
   "nbconvert_exporter": "python",
   "pygments_lexer": "ipython3",
   "version": "3.12.0"
  },
  "toc": {
   "base_numbering": 1,
   "nav_menu": {},
   "number_sections": true,
   "sideBar": true,
   "skip_h1_title": false,
   "title_cell": "Table of Contents",
   "title_sidebar": "Contents",
   "toc_cell": false,
   "toc_position": {},
   "toc_section_display": true,
   "toc_window_display": false
  },
  "varInspector": {
   "cols": {
    "lenName": 16,
    "lenType": 16,
    "lenVar": 40
   },
   "kernels_config": {
    "python": {
     "delete_cmd_postfix": "",
     "delete_cmd_prefix": "del ",
     "library": "var_list.py",
     "varRefreshCmd": "print(var_dic_list())"
    },
    "r": {
     "delete_cmd_postfix": ") ",
     "delete_cmd_prefix": "rm(",
     "library": "var_list.r",
     "varRefreshCmd": "cat(var_dic_list()) "
    }
   },
   "types_to_exclude": [
    "module",
    "function",
    "builtin_function_or_method",
    "instance",
    "_Feature"
   ],
   "window_display": false
  }
 },
 "nbformat": 4,
 "nbformat_minor": 4
}
